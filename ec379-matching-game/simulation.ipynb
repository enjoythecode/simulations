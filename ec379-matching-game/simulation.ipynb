{
 "cells": [
  {
   "cell_type": "code",
   "execution_count": 184,
   "metadata": {},
   "outputs": [],
   "source": [
    "import numpy as np\n",
    "import pandas as pd\n",
    "import matplotlib.pyplot as plt\n",
    "import random as rand\n",
    "import seaborn as sns\n",
    "from collections import Counter as Ct\n",
    "\n",
    "num_uniq = 7"
   ]
  },
  {
   "cell_type": "code",
   "execution_count": 121,
   "metadata": {},
   "outputs": [],
   "source": [
    "class Game():\n",
    "    def __init__(self):\n",
    "        self.num_uniq = num_uniq\n",
    "        \n",
    "        # board[i] % num_uniq represents the unique card number (image on card)\n",
    "        # board[i] // num_uniq represents the instance number of that image (0th Cow, 1st Cow)\n",
    "        # board[i] == -1 if card has already been matched.\n",
    "        \n",
    "        self.board = list(range(self.num_uniq * 2))\n",
    "        rand.shuffle(self.board)\n",
    "\n",
    "        self.scores = [0, 0]\n",
    "        self.toMove = 0 # 0 or 1, which character is about to move\n",
    "        self.flip = 1 # 1 or 2, what # card we are opening next\n",
    "        self.flipped = None\n",
    "        self.flipped_i = None\n",
    "        \n",
    "        self.memories = [\n",
    "            [-1 for _ in range(self.num_uniq * 2)], # -1 is don't remember, -2 is card removed,\n",
    "            [-1 for _ in range(self.num_uniq * 2)], # otherwise unique card number\n",
    "        ]\n",
    "        \n",
    "        self.forget = [0, 0] # 0 is perfect recall, 1 is perfect forgetfulness\n",
    "    \n",
    "    def check_known_match(self):\n",
    "        move1 = None\n",
    "        move2 = None\n",
    "        mem = self.memories[self.toMove]\n",
    "        for i in range(num_uniq * 2):\n",
    "            for j in range(i+1, num_uniq * 2):\n",
    "                if not(mem[i] < 0 or mem[j] < 0):\n",
    "                    if mem[i] % num_uniq == mem[j] % num_uniq: # match in memory\n",
    "                        move1 = i\n",
    "                        move2 = j\n",
    "                        break\n",
    "        return move1, move2\n",
    "    \n",
    "    def choose_unknown_card(self):\n",
    "        unknown = []\n",
    "        mem = self.memories[self.toMove]\n",
    "        \n",
    "        for i in range(len(mem)):\n",
    "            if mem[i] == -1:\n",
    "                unknown.append(i)\n",
    "        return rand.choice(unknown)\n",
    "        \n",
    "    def flip_card(self, index):\n",
    "        card_value = self.board[index]\n",
    "        \n",
    "        # both players learn the card\n",
    "        for p in range(2):\n",
    "            self.memories[p][index] = card_value\n",
    "            \n",
    "        if self.flip == 1: # 1st flip\n",
    "            self.flipped = card_value\n",
    "            self.flipped_i = index\n",
    "            \n",
    "        else: # 2nd flip\n",
    "            if card_value != self.flipped and card_value%num_uniq == self.flipped%num_uniq: # match\n",
    "                # remove cards from the board\n",
    "                self.board[self.flipped_i] = -1\n",
    "                self.board[index] = -1\n",
    "                \n",
    "                for p in range(2):\n",
    "                    self.memories[p][self.flipped_i] = -2\n",
    "                    self.memories[p][index] = -2\n",
    "            \n",
    "                # update score\n",
    "                self.scores[self.toMove] += 1\n",
    "                \n",
    "            else: # no match\n",
    "                self.toMove = (self.toMove + 1) % 2\n",
    "            \n",
    "        self.flip = 1 if self.flip == 2 else 2\n",
    "        \n",
    "    def is_game_over(self):\n",
    "        return all([x == -1 for x in self.board])"
   ]
  },
  {
   "cell_type": "code",
   "execution_count": 194,
   "metadata": {
    "scrolled": false
   },
   "outputs": [],
   "source": [
    "repetitions = 2000\n",
    "p1s = []\n",
    "p2s = []\n",
    "diffs = []\n",
    "\n",
    "for rep in range(repetitions):\n",
    "    g = Game()\n",
    "    while not g.is_game_over():\n",
    "        m1, m2 = g.check_known_match()\n",
    "        if not m1 is None:\n",
    "            g.flip_card(m1)\n",
    "            g.flip_card(m2)\n",
    "\n",
    "        else:\n",
    "            card = g.choose_unknown_card()\n",
    "            g.flip_card(card)\n",
    "            m1, m2 = g.check_known_match()\n",
    "            if m1 or m2:\n",
    "                if m1 == card:\n",
    "                    g.flip_card(m2)\n",
    "                else:\n",
    "                    g.flip_card(m1)\n",
    "            else:\n",
    "                card = g.choose_unknown_card()\n",
    "                g.flip_card(card)\n",
    "    diffs.append(g.scores[0] - g.scores[1])\n",
    "    p1s.append(g.scores[0])\n",
    "    p2s.append(g.scores[1])"
   ]
  },
  {
   "cell_type": "code",
   "execution_count": 201,
   "metadata": {},
   "outputs": [
    {
     "name": "stdout",
     "output_type": "stream",
     "text": [
      "0.556\n"
     ]
    },
    {
     "data": {
      "image/png": "[encoded data removed]",
      "text/plain": [
       "<Figure size 432x288 with 1 Axes>"
      ]
     },
     "metadata": {
      "needs_background": "light"
     },
     "output_type": "display_data"
    }
   ],
   "source": [
    "counts = Ct(p1s)\n",
    "x = list(range(num_uniq + 1))\n",
    "y = [counts[i] for i in x]\n",
    "plt.bar(x,y)\n",
    "win = counts[4] + counts[5] + counts[6] + counts[7]\n",
    "print(win / repetitions)"
   ]
  }
 ],
 "metadata": {
  "kernelspec": {
   "display_name": "Python 3",
   "language": "python",
   "name": "python3"
  },
  "language_info": {
   "codemirror_mode": {
    "name": "ipython",
    "version": 3
   },
   "file_extension": ".py",
   "mimetype": "text/x-python",
   "name": "python",
   "nbconvert_exporter": "python",
   "pygments_lexer": "ipython3",
   "version": "3.7.0"
  }
 },
 "nbformat": 4,
 "nbformat_minor": 4
}
