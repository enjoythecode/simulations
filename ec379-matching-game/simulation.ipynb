{
 "cells": [
  {
   "cell_type": "code",
   "execution_count": 1,
   "metadata": {},
   "outputs": [],
   "source": [
    "import numpy as np\n",
    "import pandas as pd\n",
    "import matplotlib.pyplot as plt\n",
    "import random as rand\n",
    "import seaborn as sns\n",
    "from collections import Counter as Ct\n",
    "\n",
    "num_uniq = 7"
   ]
  },
  {
   "cell_type": "markdown",
   "metadata": {},
   "source": [
    "# Game Simulation"
   ]
  },
  {
   "cell_type": "code",
   "execution_count": 2,
   "metadata": {},
   "outputs": [],
   "source": [
    "class Game():\n",
    "    def __init__(self, forg1 = 0, forg2 = 0):\n",
    "        self.num_uniq = num_uniq\n",
    "        \n",
    "        # board[i] % num_uniq represents the unique card number (image on card)\n",
    "        # board[i] // num_uniq represents the instance number of that image (0th Cow, 1st Cow)\n",
    "        # board[i] == -1 if card has already been matched.\n",
    "        \n",
    "        self.board = list(range(self.num_uniq * 2))\n",
    "        rand.shuffle(self.board)\n",
    "\n",
    "        self.scores = [0, 0]\n",
    "        self.toMove = 0 # 0 or 1, which character is about to move\n",
    "        self.flip = 1 # 1 or 2, what # card we are opening next\n",
    "        self.flipped = None\n",
    "        self.flipped_i = None\n",
    "        self.round = 0\n",
    "        \n",
    "        self.memories = [\n",
    "            [-1 for _ in range(self.num_uniq * 2)], # -1 is don't know/sremember, -2 is card removed,\n",
    "            [-1 for _ in range(self.num_uniq * 2)], # otherwise unique card number\n",
    "        ]\n",
    "        \n",
    "        self.forget = [forg1, forg2] # 0 is perfect recall, 1 is perfect forgetfulness\n",
    "    \n",
    "    def check_known_match(self):\n",
    "        move1 = None\n",
    "        move2 = None\n",
    "        mem = self.memories[self.toMove]\n",
    "        for i in range(num_uniq * 2):\n",
    "            for j in range(i+1, num_uniq * 2):\n",
    "                if not(mem[i] < 0 or mem[j] < 0):\n",
    "                    if mem[i] % num_uniq == mem[j] % num_uniq: # match in memory\n",
    "                        move1 = i\n",
    "                        move2 = j\n",
    "                        break\n",
    "\n",
    "        return move1, move2\n",
    "    \n",
    "    def choose_unknown_card(self):\n",
    "        unknown = []\n",
    "        mem = self.memories[self.toMove]\n",
    "        \n",
    "        for i in range(len(mem)):\n",
    "            if mem[i] == -1:\n",
    "                unknown.append(i)\n",
    "        return rand.choice(unknown)\n",
    "        \n",
    "    def flip_card(self, index):\n",
    "        card_value = self.board[index]\n",
    "        \n",
    "        # both players learn the card\n",
    "        for p in range(2):\n",
    "            self.memories[p][index] = card_value\n",
    "            \n",
    "        if self.flip == 1: # 1st flip\n",
    "            self.flipped = card_value\n",
    "            self.flipped_i = index\n",
    "            \n",
    "        else: # 2nd flip\n",
    "            if card_value != self.flipped and card_value%num_uniq == self.flipped%num_uniq: # match\n",
    "                # remove cards from the board\n",
    "                self.board[self.flipped_i] = -1\n",
    "                self.board[index] = -1\n",
    "                \n",
    "                for p in range(2):\n",
    "                    self.memories[p][self.flipped_i] = -2\n",
    "                    self.memories[p][index] = -2\n",
    "            \n",
    "                # update score\n",
    "                self.scores[self.toMove] += 1\n",
    "            \n",
    "            else: # no match\n",
    "                self.toMove = (self.toMove + 1) % 2\n",
    "            \n",
    "            self.round += 1\n",
    "            \n",
    "        self.flip = 1 if self.flip == 2 else 2\n",
    "        \n",
    "    def roll_forget(self):\n",
    "        for p in range(2):\n",
    "            for i in range(len(self.memories[p])):\n",
    "                if rand.random() < self.forget[p] and self.memories[p][i] != -2: # can't forget cards that were physically removed\n",
    "                    self.memories[p][i] = -1\n",
    "        \n",
    "    def is_game_over(self):\n",
    "        return all([x == -1 for x in self.board])"
   ]
  },
  {
   "cell_type": "markdown",
   "metadata": {},
   "source": [
    "# Simple Game Simulation"
   ]
  },
  {
   "cell_type": "code",
   "execution_count": 3,
   "metadata": {},
   "outputs": [],
   "source": [
    "repetitions = 10000\n",
    "p1scs = []\n",
    "\n",
    "for rep in range(repetitions):\n",
    "    g = Game()\n",
    "    while not g.is_game_over():\n",
    "\n",
    "        m1, m2 = g.check_known_match()\n",
    "        if not m1 is None:\n",
    "            g.flip_card(m1)\n",
    "            g.flip_card(m2)\n",
    "\n",
    "        else:\n",
    "            card = g.choose_unknown_card()\n",
    "            g.flip_card(card)\n",
    "            m1, m2 = g.check_known_match()\n",
    "            if m1 or m2:\n",
    "                if m1 == card:\n",
    "                    g.flip_card(m2)\n",
    "                else:\n",
    "                    g.flip_card(m1)\n",
    "            else:\n",
    "                card = g.choose_unknown_card()\n",
    "                g.flip_card(card)\n",
    "\n",
    "    p1scs.append(g.scores[0])"
   ]
  },
  {
   "cell_type": "code",
   "execution_count": 4,
   "metadata": {},
   "outputs": [
    {
     "name": "stdout",
     "output_type": "stream",
     "text": [
      "Player 1 WR: 57.0 % after 10000 repetitions.\n"
     ]
    },
    {
     "data": {
      "image/png": "[encoded data removed]",
      "text/plain": [
       "<Figure size 432x288 with 1 Axes>"
      ]
     },
     "metadata": {
      "needs_background": "light"
     },
     "output_type": "display_data"
    }
   ],
   "source": [
    "counts = Ct(p1scs)\n",
    "\n",
    "wins = counts[4] + counts[5] + counts[6] + counts[7]\n",
    "print(\"Player 1 WR:\", round(wins/repetitions * 100, 1), \"% after\", repetitions, \"repetitions.\")\n",
    "\n",
    "x = list(range(num_uniq + 1))\n",
    "y = [counts[i] for i in x]\n",
    "\n",
    "plt.bar(x,y)\n",
    "plt.title(\"Baseline Algorithm Simulation Outcomes\")\n",
    "plt.xlabel(\"Player 1 Score\")\n",
    "plt.ylabel(\"# of Games\")\n",
    "plt.show()"
   ]
  },
  {
   "cell_type": "markdown",
   "metadata": {},
   "source": [
    "# 2nd Player Stall Strategy Simulation\n",
    "\n",
    "WIP: distinction between 1a and 1b, improve branching logic."
   ]
  },
  {
   "cell_type": "code",
   "execution_count": 6,
   "metadata": {
    "scrolled": false
   },
   "outputs": [],
   "source": [
    "repetitions = 50_000\n",
    "p1s = [\n",
    "    [],[],[]\n",
    "]\n",
    "for strat in range(3): # strategy code\n",
    "    for rep in range(repetitions):\n",
    "        g = Game()\n",
    "        while not g.is_game_over():\n",
    "            \n",
    "            if g.round == 1 and not (1 in g.scores): # broken 2nd player strat??\n",
    "                mem = g.memories[g.toMove]\n",
    "                knowns = []\n",
    "                for i in range(num_uniq * 2):\n",
    "                    if not mem[i] < 0:\n",
    "                        knowns.append(i)\n",
    "                        \n",
    "                if strat == \n",
    "                # flip 1\n",
    "                if strat > 0 and len(knowns) > 0:\n",
    "                    g.flip_card(knowns[0])\n",
    "                else:\n",
    "                    g.flip_card(g.choose_unknown_card())\n",
    "                    \n",
    "                # flip 2\n",
    "                if strat > 1 and len(knowns) > 1:\n",
    "                    g.flip_card(knowns[1])\n",
    "                else:\n",
    "                    g.flip_card(g.choose_unknown_card())\n",
    "\n",
    "            else: # regular play\n",
    "                m1, m2 = g.check_known_match()\n",
    "                if not m1 is None:\n",
    "                    g.flip_card(m1)\n",
    "                    g.flip_card(m2)\n",
    "\n",
    "                else:\n",
    "                    card = g.choose_unknown_card()\n",
    "                    g.flip_card(card)\n",
    "                    m1, m2 = g.check_known_match()\n",
    "                    if m1 or m2:\n",
    "                        if m1 == card:\n",
    "                            g.flip_card(m2)\n",
    "                        else:\n",
    "                            g.flip_card(m1)\n",
    "                    else:\n",
    "                        card = g.choose_unknown_card()\n",
    "                        g.flip_card(card)\n",
    "            \n",
    "            g.roll_forget()\n",
    "\n",
    "        p1s[strat].append(g.scores[0])"
   ]
  },
  {
   "cell_type": "code",
   "execution_count": 7,
   "metadata": {},
   "outputs": [
    {
     "name": "stdout",
     "output_type": "stream",
     "text": [
      "Strat  0   0.59302\n",
      "Strat  1   0.53118\n",
      "Strat  2   0.4233\n"
     ]
    }
   ],
   "source": [
    "for ch in range(3):\n",
    "    counts = Ct(p1s[ch])\n",
    "    win = counts[4] + counts[5] + counts[6] + counts[7]\n",
    "    print(\"Strat \", ch, \" \", win / repetitions)"
   ]
  },
  {
   "cell_type": "markdown",
   "metadata": {},
   "source": [
    "# Effect of Memory Skill on Win Rate"
   ]
  },
  {
   "cell_type": "code",
   "execution_count": 8,
   "metadata": {},
   "outputs": [
    {
     "data": {
      "text/plain": [
       "array([[[0.        , 0.        , 0.        , 0.        , 0.        ,\n",
       "         0.        , 0.        , 0.        ],\n",
       "        [0.14285714, 0.14285714, 0.14285714, 0.14285714, 0.14285714,\n",
       "         0.14285714, 0.14285714, 0.14285714],\n",
       "        [0.28571429, 0.28571429, 0.28571429, 0.28571429, 0.28571429,\n",
       "         0.28571429, 0.28571429, 0.28571429],\n",
       "        [0.42857143, 0.42857143, 0.42857143, 0.42857143, 0.42857143,\n",
       "         0.42857143, 0.42857143, 0.42857143],\n",
       "        [0.57142857, 0.57142857, 0.57142857, 0.57142857, 0.57142857,\n",
       "         0.57142857, 0.57142857, 0.57142857],\n",
       "        [0.71428571, 0.71428571, 0.71428571, 0.71428571, 0.71428571,\n",
       "         0.71428571, 0.71428571, 0.71428571],\n",
       "        [0.85714286, 0.85714286, 0.85714286, 0.85714286, 0.85714286,\n",
       "         0.85714286, 0.85714286, 0.85714286],\n",
       "        [1.        , 1.        , 1.        , 1.        , 1.        ,\n",
       "         1.        , 1.        , 1.        ]],\n",
       "\n",
       "       [[0.        , 0.14285714, 0.28571429, 0.42857143, 0.57142857,\n",
       "         0.71428571, 0.85714286, 1.        ],\n",
       "        [0.        , 0.14285714, 0.28571429, 0.42857143, 0.57142857,\n",
       "         0.71428571, 0.85714286, 1.        ],\n",
       "        [0.        , 0.14285714, 0.28571429, 0.42857143, 0.57142857,\n",
       "         0.71428571, 0.85714286, 1.        ],\n",
       "        [0.        , 0.14285714, 0.28571429, 0.42857143, 0.57142857,\n",
       "         0.71428571, 0.85714286, 1.        ],\n",
       "        [0.        , 0.14285714, 0.28571429, 0.42857143, 0.57142857,\n",
       "         0.71428571, 0.85714286, 1.        ],\n",
       "        [0.        , 0.14285714, 0.28571429, 0.42857143, 0.57142857,\n",
       "         0.71428571, 0.85714286, 1.        ],\n",
       "        [0.        , 0.14285714, 0.28571429, 0.42857143, 0.57142857,\n",
       "         0.71428571, 0.85714286, 1.        ],\n",
       "        [0.        , 0.14285714, 0.28571429, 0.42857143, 0.57142857,\n",
       "         0.71428571, 0.85714286, 1.        ]]])"
      ]
     },
     "execution_count": 8,
     "metadata": {},
     "output_type": "execute_result"
    }
   ],
   "source": [
    "forget_count = 7\n",
    "forget_step = 1 / forget_count\n",
    "forgets = np.mgrid[0:1+forget_step:forget_step, 0:1+forget_step:forget_step] # grid of lambda values. first dimension is player.\n",
    "forgets"
   ]
  },
  {
   "cell_type": "code",
   "execution_count": 9,
   "metadata": {},
   "outputs": [],
   "source": [
    "repetitions = 1000\n",
    "p1wins = np.zeros((forget_count + 1, forget_count + 1))\n",
    "for i in range(forget_count + 1):\n",
    "    for j in range(forget_count + 1):\n",
    "        for rep in range(repetitions):\n",
    "            g = Game(forgets[0][i][j], forgets[1][i][j])\n",
    "\n",
    "            while not g.is_game_over():\n",
    "\n",
    "                m1, m2 = g.check_known_match()\n",
    "                if not m1 is None:\n",
    "                    g.flip_card(m1)\n",
    "                    g.flip_card(m2)\n",
    "\n",
    "                else:\n",
    "                    card = g.choose_unknown_card()\n",
    "                    g.flip_card(card)\n",
    "                    m1, m2 = g.check_known_match()\n",
    "                    if m1 or m2:\n",
    "                        if m1 == card:\n",
    "                            g.flip_card(m2)\n",
    "                        else:\n",
    "                            g.flip_card(m1)\n",
    "                    else:\n",
    "                        card = g.choose_unknown_card()\n",
    "                        g.flip_card(card)\n",
    "\n",
    "                g.roll_forget()\n",
    "\n",
    "            if g.scores[0] > num_uniq / 2:\n",
    "                p1wins[i][j] += 1"
   ]
  },
  {
   "cell_type": "code",
   "execution_count": 10,
   "metadata": {},
   "outputs": [
    {
     "data": {
      "image/png": "[encoded data removed]",
      "text/plain": [
       "<Figure size 432x648 with 1 Axes>"
      ]
     },
     "metadata": {
      "needs_background": "light"
     },
     "output_type": "display_data"
    }
   ],
   "source": [
    "p1wr = np.array(p1wins) / repetitions\n",
    "\n",
    "forget_ticks = [round(x,2) for x in np.linspace(0,1,forget_count+1)]\n",
    "\n",
    "fig, ax = plt.subplots(figsize = (6,9))\n",
    "im = ax.imshow(p1wins)\n",
    "\n",
    "plt.ylabel(\"Player 1 $\\lambda$ (lower is better)\")\n",
    "plt.xlabel(\"Player 2 $\\lambda$ (lower is better)\")\n",
    "\n",
    "plt.title(\"Player 1 Win Rate across Forgetfulness for Both Players\")\n",
    "\n",
    "ax.set_xticks(np.arange(len(forget_ticks)))\n",
    "ax.set_yticks(np.arange(len(forget_ticks)))\n",
    "\n",
    "ax.set_xticklabels(forget_ticks)\n",
    "ax.set_yticklabels(forget_ticks)\n",
    "\n",
    "for i in range(len(forget_ticks)):\n",
    "    for j in range(len(forget_ticks)):\n",
    "        if p1wins[i,j] / repetitions < 0.5:\n",
    "            color = \"w\"\n",
    "        else:\n",
    "            color = \"k\"\n",
    "        text = ax.text(j, i, p1wr[i, j], ha=\"center\", va=\"center\", color = color)\n",
    "\n",
    "plt.show()"
   ]
  }
 ],
 "metadata": {
  "kernelspec": {
   "display_name": "Python 3",
   "language": "python",
   "name": "python3"
  },
  "language_info": {
   "codemirror_mode": {
    "name": "ipython",
    "version": 3
   },
   "file_extension": ".py",
   "mimetype": "text/x-python",
   "name": "python",
   "nbconvert_exporter": "python",
   "pygments_lexer": "ipython3",
   "version": "3.7.0"
  }
 },
 "nbformat": 4,
 "nbformat_minor": 4
}
